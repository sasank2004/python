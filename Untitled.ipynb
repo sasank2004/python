{
 "cells": [
  {
   "cell_type": "code",
   "execution_count": 6,
   "id": "74daffcb",
   "metadata": {},
   "outputs": [
    {
     "name": "stdout",
     "output_type": "stream",
     "text": [
      "Hello World\n"
     ]
    }
   ],
   "source": [
    "print(\"Hello World\")"
   ]
  },
  {
   "cell_type": "markdown",
   "id": "5e121984",
   "metadata": {},
   "source": [
    "### Python is case sensitive"
   ]
  },
  {
   "cell_type": "markdown",
   "id": "9ecb8bdf",
   "metadata": {},
   "source": [
    "#### Python"
   ]
  },
  {
   "cell_type": "markdown",
   "id": "db697a39",
   "metadata": {},
   "source": [
    "##### Python "
   ]
  },
  {
   "cell_type": "markdown",
   "id": "dc690801",
   "metadata": {},
   "source": [
    "## Python "
   ]
  },
  {
   "cell_type": "code",
   "execution_count": 7,
   "id": "cf06690e",
   "metadata": {},
   "outputs": [],
   "source": [
    "coursenames = \"1\",\"2\",\"3\""
   ]
  },
  {
   "cell_type": "code",
   "execution_count": 9,
   "id": "543ad4aa",
   "metadata": {},
   "outputs": [
    {
     "data": {
      "text/plain": [
       "('1', '2', '3')"
      ]
     },
     "execution_count": 9,
     "metadata": {},
     "output_type": "execute_result"
    }
   ],
   "source": [
    "coursenames"
   ]
  },
  {
   "cell_type": "code",
   "execution_count": 10,
   "id": "543cc516",
   "metadata": {},
   "outputs": [
    {
     "ename": "SyntaxError",
     "evalue": "invalid syntax (3055686854.py, line 1)",
     "output_type": "error",
     "traceback": [
      "\u001b[1;36m  File \u001b[1;32m\"C:\\Users\\DELL\\AppData\\Local\\Temp\\ipykernel_3692\\3055686854.py\"\u001b[1;36m, line \u001b[1;32m1\u001b[0m\n\u001b[1;33m    course names = \"1\",\"2\",\"3\"\u001b[0m\n\u001b[1;37m           ^\u001b[0m\n\u001b[1;31mSyntaxError\u001b[0m\u001b[1;31m:\u001b[0m invalid syntax\n"
     ]
    }
   ],
   "source": [
    "course names = \"1\",\"2\",\"3\""
   ]
  },
  {
   "cell_type": "code",
   "execution_count": 11,
   "id": "cda5be2b",
   "metadata": {},
   "outputs": [],
   "source": [
    "course_names = \"1\",\"2\",\"3\""
   ]
  },
  {
   "cell_type": "code",
   "execution_count": 12,
   "id": "f2ad0873",
   "metadata": {},
   "outputs": [
    {
     "ename": "SyntaxError",
     "evalue": "cannot assign to operator (711421287.py, line 1)",
     "output_type": "error",
     "traceback": [
      "\u001b[1;36m  File \u001b[1;32m\"C:\\Users\\DELL\\AppData\\Local\\Temp\\ipykernel_3692\\711421287.py\"\u001b[1;36m, line \u001b[1;32m1\u001b[0m\n\u001b[1;33m    course*names = \"1\",\"2\",\"3\"\u001b[0m\n\u001b[1;37m    ^\u001b[0m\n\u001b[1;31mSyntaxError\u001b[0m\u001b[1;31m:\u001b[0m cannot assign to operator\n"
     ]
    }
   ],
   "source": [
    "course*names = \"1\",\"2\",\"3\""
   ]
  },
  {
   "cell_type": "code",
   "execution_count": 13,
   "id": "79c78b0c",
   "metadata": {},
   "outputs": [
    {
     "ename": "SyntaxError",
     "evalue": "invalid syntax (3216223208.py, line 1)",
     "output_type": "error",
     "traceback": [
      "\u001b[1;36m  File \u001b[1;32m\"C:\\Users\\DELL\\AppData\\Local\\Temp\\ipykernel_3692\\3216223208.py\"\u001b[1;36m, line \u001b[1;32m1\u001b[0m\n\u001b[1;33m    3coursename = \"1\",\"2\",\"3\"\u001b[0m\n\u001b[1;37m     ^\u001b[0m\n\u001b[1;31mSyntaxError\u001b[0m\u001b[1;31m:\u001b[0m invalid syntax\n"
     ]
    }
   ],
   "source": [
    "3coursename = \"1\",\"2\",\"3\""
   ]
  },
  {
   "cell_type": "code",
   "execution_count": 14,
   "id": "b7b7bb1d",
   "metadata": {},
   "outputs": [],
   "source": [
    "c3ursenames = \"1\",\"2\",\"3\""
   ]
  },
  {
   "cell_type": "code",
   "execution_count": null,
   "id": "b964d5a1",
   "metadata": {},
   "outputs": [],
   "source": []
  }
 ],
 "metadata": {
  "kernelspec": {
   "display_name": "Python 3 (ipykernel)",
   "language": "python",
   "name": "python3"
  },
  "language_info": {
   "codemirror_mode": {
    "name": "ipython",
    "version": 3
   },
   "file_extension": ".py",
   "mimetype": "text/x-python",
   "name": "python",
   "nbconvert_exporter": "python",
   "pygments_lexer": "ipython3",
   "version": "3.9.13"
  }
 },
 "nbformat": 4,
 "nbformat_minor": 5
}
